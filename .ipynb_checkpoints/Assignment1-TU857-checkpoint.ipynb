{
 "cells": [
  {
   "cell_type": "markdown",
   "metadata": {},
   "source": [
    "# Instructions\n",
    "This lab has to be submitted by 14:45 Monday 1-11-2021. Write your solutions in this file and save your completed lab as your_student_number.ipynb.   \n",
    "This lab will account for 10% of the mark for the module. Please feel free to use samples of code from previous labs and lectures to assist you in formulating your answers.  \n",
    "If you are stuck on a problem do whatever part of the problem you can - for example get the loop iterating the correct number of times, try to have the input and output working etc.\n"
   ]
  },
  {
   "cell_type": "markdown",
   "metadata": {},
   "source": [
    "## Question 1 (4 marks)\n",
    "Create an algorithm using a loop that asks the user to input an integer.  Once the user inputs zero the loop should end and the average value of the integers displayed (the average is the sum of all the integers divided by the number of integers the user input before the loop terminates - not including the final zero entered)."
   ]
  },
  {
   "cell_type": "code",
   "execution_count": 39,
   "metadata": {},
   "outputs": [
    {
     "name": "stdout",
     "output_type": "stream",
     "text": [
      "Please enter an integer:\n",
      "7\n",
      "Please enter an integer:\n",
      "6\n",
      "Please enter an integer:\n",
      "4\n",
      "Please enter an integer:\n",
      "0\n"
     ]
    },
    {
     "ename": "NameError",
     "evalue": "name 'attempt' is not defined",
     "output_type": "error",
     "traceback": [
      "\u001b[0;31m---------------------------------------------------------------------------\u001b[0m",
      "\u001b[0;31mNameError\u001b[0m                                 Traceback (most recent call last)",
      "\u001b[0;32m<ipython-input-39-69ddf77696e3>\u001b[0m in \u001b[0;36m<module>\u001b[0;34m\u001b[0m\n\u001b[1;32m      6\u001b[0m         \u001b[0mtotal\u001b[0m \u001b[0;34m=\u001b[0m \u001b[0mint\u001b[0m\u001b[0;34m(\u001b[0m\u001b[0ma\u001b[0m\u001b[0;34m+\u001b[0m\u001b[0ma\u001b[0m\u001b[0;34m)\u001b[0m\u001b[0;34m\u001b[0m\u001b[0;34m\u001b[0m\u001b[0m\n\u001b[1;32m      7\u001b[0m         \u001b[0mattempts\u001b[0m \u001b[0;34m=\u001b[0m \u001b[0mint\u001b[0m\u001b[0;34m(\u001b[0m\u001b[0;34m)\u001b[0m\u001b[0;34m\u001b[0m\u001b[0;34m\u001b[0m\u001b[0m\n\u001b[0;32m----> 8\u001b[0;31m         \u001b[0mavrg\u001b[0m \u001b[0;34m=\u001b[0m \u001b[0mtotal\u001b[0m\u001b[0;34m/\u001b[0m\u001b[0mattempt\u001b[0m\u001b[0;34m\u001b[0m\u001b[0;34m\u001b[0m\u001b[0m\n\u001b[0m",
      "\u001b[0;31mNameError\u001b[0m: name 'attempt' is not defined"
     ]
    }
   ],
   "source": [
    "# to read in a number use some thing like:\n",
    "a = int(input('Please enter an integer:\\n'))\n",
    "while a != 0:\n",
    "    a = int(input('Please enter an integer:\\n'))\n",
    "    if a ==0:\n",
    "        total = int(a+a)\n",
    "        attempts = int()\n",
    "        avrg = total/attempt"
   ]
  },
  {
   "cell_type": "markdown",
   "metadata": {},
   "source": [
    "## Question 2 (6 marks)\n",
    "Write a program that prints to the user the sum (a+b) and product (a*b) of two randomly generated natural numbers (positive integers) between 1 and 100. To win the game the user must guess the two numbers. The user is given three tries, if they\n",
    "are wrong after three rounds then the numbers are revealed to them. The user has to guess both numbers correctly in a single round and is not told if one of the numbers in a previous round was correct.  The order of the numbers does not matter, e.g. if the target numbers are 4 and 20 then in a singlle round it shouldn't matter if the user guesses 20 first and then 4, or 4 first and then 20, both are correct.\n",
    "The user has 3 attempts to guess the two numbers, and the game should finish if the user guesses the numbers correctly.\n"
   ]
  },
  {
   "cell_type": "code",
   "execution_count": null,
   "metadata": {},
   "outputs": [],
   "source": [
    "# generation of numbers the user are to guess\n",
    "import random\n",
    "a = random.randint(1,100) #first number to guess\n",
    "b = random.randint(1,100) #second number to guess\n",
    "\n",
    "print('For this game you have to guess two positive integers between 1 and 100 - you will be shown their sum and product.')\n",
    "print('The sum of the numbers you need to guess is', a+b, 'the product is', a*b)\n",
    "\n",
    "# use a loop to allow the user up to three guesses - think about the boolean for ending the loop\n"
   ]
  },
  {
   "cell_type": "code",
   "execution_count": 40,
   "metadata": {},
   "outputs": [
    {
     "name": "stdout",
     "output_type": "stream",
     "text": [
      "For this game you have to guess two positive integers between 1 and 100 - you will be shown their sum and product.\n",
      "The sum of the numbers you need to guess is 87 the product is 332\n",
      "Please enter any number between 1 - 100\n",
      "2\n",
      "Please enter any number between 1 - 100\n",
      "3\n",
      "You have 2 more tries. Please enter any number between 1 - 100\n",
      "34\n",
      "You have 2 more tries. Please enter any number between 1 - 100\n",
      "32\n",
      "You have 1 more tries. Please enter any number between 1 - 100\n",
      "56\n",
      "You have 1 more tries. Please enter any number between 1 - 100\n",
      "432\n"
     ]
    }
   ],
   "source": [
    "import random\n",
    "a = random.randint(1,100)\n",
    "b = random.randint(1,100)\n",
    "total = a + b\n",
    "Total = a * b\n",
    "print('For this game you have to guess two positive integers between 1 and 100 - you will be shown their sum and product.')\n",
    "print('The sum of the numbers you need to guess is', total, 'the product is', Total)\n",
    "\n",
    "c = int(input('Please enter any number between 1 - 100\\n'))\n",
    "d = int(input('Please enter any number between 1 - 100\\n'))\n",
    "\n",
    "if c != a and b != d:\n",
    "    c = int(input('You have 2 more tries. Please enter any number between 1 - 100\\n'))\n",
    "    d = int(input('You have 2 more tries. Please enter any number between 1 - 100\\n'))\n",
    "\n",
    "if c != a and b != d:\n",
    "        c = int(input('You have 1 more tries. Please enter any number between 1 - 100\\n'))\n",
    "        d = int(input('You have 1 more tries. Please enter any number between 1 - 100\\n'))\n",
    "\n",
    "\n",
    "\n",
    "\n",
    "\n",
    "\n",
    "\n",
    "\n",
    "\n",
    "    \n",
    "\n",
    "\n",
    "    \n",
    "\n",
    "\n",
    "    \n",
    "\n",
    "\n",
    "\n",
    "\n",
    "\n",
    "\n",
    "\n",
    "\n"
   ]
  },
  {
   "cell_type": "code",
   "execution_count": null,
   "metadata": {},
   "outputs": [],
   "source": []
  },
  {
   "cell_type": "code",
   "execution_count": null,
   "metadata": {},
   "outputs": [],
   "source": []
  }
 ],
 "metadata": {
  "kernelspec": {
   "display_name": "Python 3",
   "language": "python",
   "name": "python3"
  },
  "language_info": {
   "codemirror_mode": {
    "name": "ipython",
    "version": 3
   },
   "file_extension": ".py",
   "mimetype": "text/x-python",
   "name": "python",
   "nbconvert_exporter": "python",
   "pygments_lexer": "ipython3",
   "version": "3.8.8"
  }
 },
 "nbformat": 4,
 "nbformat_minor": 4
}
