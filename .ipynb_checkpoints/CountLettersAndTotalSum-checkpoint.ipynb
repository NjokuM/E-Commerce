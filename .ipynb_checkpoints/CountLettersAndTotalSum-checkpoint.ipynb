{
 "cells": [
  {
   "cell_type": "markdown",
   "metadata": {},
   "source": [
    "## Count Letters in Word"
   ]
  },
  {
   "cell_type": "code",
   "execution_count": null,
   "metadata": {},
   "outputs": [],
   "source": [
    "A = input('please enter a word: ')\n",
    "C = input('plase enter a charater: ')\n",
    "length = len(A)\n",
    "CharCount = 0\n",
    "position = 0\n",
    "\n",
    "while position<length:\n",
    "    if(A[position] == C):\n",
    "        CharCount = CharCount +1\n",
    "    position = position +1\n",
    "print('The characrter', C, 'appears', CharCount, 'times in', A)"
   ]
  },
  {
   "cell_type": "markdown",
   "metadata": {},
   "source": [
    "## Cumulative Total in Array"
   ]
  },
  {
   "cell_type": "code",
   "execution_count": null,
   "metadata": {},
   "outputs": [],
   "source": [
    "import numpy as np\n",
    "A = np.random.randint(1,5, size= 5)\n",
    "#print(A)\n",
    "total = 0\n",
    "i = 0\n",
    "N= len(A)\n",
    "while i<N:\n",
    "    print('i at start of loop', i)\n",
    "    total = total + A[i]\n",
    "    i = i + 1\n",
    "    print('i at end of loop', i)\n",
    "    print('total at end of loop', total) \n",
    "print('total = ', total)"
   ]
  },
  {
   "cell_type": "code",
   "execution_count": null,
   "metadata": {},
   "outputs": [],
   "source": []
  },
  {
   "cell_type": "code",
   "execution_count": null,
   "metadata": {},
   "outputs": [],
   "source": []
  }
 ],
 "metadata": {
  "kernelspec": {
   "display_name": "Python 3",
   "language": "python",
   "name": "python3"
  },
  "language_info": {
   "codemirror_mode": {
    "name": "ipython",
    "version": 3
   },
   "file_extension": ".py",
   "mimetype": "text/x-python",
   "name": "python",
   "nbconvert_exporter": "python",
   "pygments_lexer": "ipython3",
   "version": "3.8.8"
  }
 },
 "nbformat": 4,
 "nbformat_minor": 2
}
