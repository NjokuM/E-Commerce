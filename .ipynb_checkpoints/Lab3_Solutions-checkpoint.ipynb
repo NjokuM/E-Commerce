{
 "cells": [
  {
   "cell_type": "markdown",
   "metadata": {},
   "source": [
    "## Question 1\n",
    "The code below reads in integer variables a, b, c. Can you sort the values in the variables - a having the smallest of the three values, b the middle valus and c the largest - using only if statements? Use test values and print the variable names and values to check your answer."
   ]
  },
  {
   "cell_type": "code",
   "execution_count": 18,
   "metadata": {},
   "outputs": [
    {
     "name": "stdout",
     "output_type": "stream",
     "text": [
      "please enter a value for a\n",
      "4\n",
      "please enter a value for b\n",
      "3\n",
      "please enter a value for c\n",
      "2\n",
      "2 3 4\n"
     ]
    }
   ],
   "source": [
    "a = int(input('please enter a value for a\\n'))\n",
    "b = int(input('please enter a value for b\\n'))\n",
    "c = int(input('please enter a value for c\\n'))\n",
    "\n",
    "if a>b:\n",
    "    t = a\n",
    "    a = b\n",
    "    b = t\n",
    "p = 10\n",
    "if a>c:\n",
    "    t = a\n",
    "    a = c\n",
    "    c = t\n",
    "if b>c:\n",
    "    t = b\n",
    "    b = c\n",
    "    c = t\n",
    "\n",
    "print(a,b,c)"
   ]
  },
  {
   "cell_type": "markdown",
   "metadata": {},
   "source": [
    "## Question 2\n",
    "The folowing is the expression for converting temperature in celsius to farenheit:  \n",
    "F = (C × 9/5) + 32  \n",
    "where C is the temperature in celsius and F is the tmperature in farenheit. Write a program that prints out the tempertures in celsius from 0 to 100 in increments of 10 with the corresponding temperatures in farenheit."
   ]
  },
  {
   "cell_type": "code",
   "execution_count": 19,
   "metadata": {},
   "outputs": [
    {
     "name": "stdout",
     "output_type": "stream",
     "text": [
      "before loop\n",
      "Temperature Celsius =  0 : Temperture Farenheit =  32.0 \n",
      "\n",
      "Temperature Celsius =  10 : Temperture Farenheit =  50.0 \n",
      "\n",
      "Temperature Celsius =  20 : Temperture Farenheit =  68.0 \n",
      "\n",
      "Temperature Celsius =  30 : Temperture Farenheit =  86.0 \n",
      "\n",
      "Temperature Celsius =  40 : Temperture Farenheit =  104.0 \n",
      "\n",
      "Temperature Celsius =  50 : Temperture Farenheit =  122.0 \n",
      "\n",
      "Temperature Celsius =  60 : Temperture Farenheit =  140.0 \n",
      "\n",
      "Temperature Celsius =  70 : Temperture Farenheit =  158.0 \n",
      "\n",
      "Temperature Celsius =  80 : Temperture Farenheit =  176.0 \n",
      "\n",
      "Temperature Celsius =  90 : Temperture Farenheit =  194.0 \n",
      "\n",
      "Temperature Celsius =  100 : Temperture Farenheit =  212.0 \n",
      "\n",
      "loop finished, tempC =  110\n"
     ]
    }
   ],
   "source": [
    "tempC =0\n",
    "print('before loop')\n",
    "while tempC <=100:\n",
    "    tempF = (tempC*9/5)+32\n",
    "    print('Temperature Celsius = ', tempC,': Temperture Farenheit = ', tempF,'\\n')\n",
    "    tempC = tempC+10\n",
    "    \n",
    "print('loop finished, tempC = ', tempC)"
   ]
  },
  {
   "cell_type": "markdown",
   "metadata": {},
   "source": [
    "## Question 3\n",
    "Can you design an algorithm that reads in 2 integers and simulates multiplication using a loop and addition? Test your algorithm with different vaules. Can you make it work for positive and negative numbers using only if else, loops, and addition and subtraction?"
   ]
  },
  {
   "cell_type": "code",
   "execution_count": 3,
   "metadata": {},
   "outputs": [
    {
     "name": "stdout",
     "output_type": "stream",
     "text": [
      "please enter a value for a\n",
      "-3\n",
      "please enter a value for b\n",
      "3\n",
      "total =  -9\n"
     ]
    }
   ],
   "source": [
    "a = int(input('please enter a value for a\\n'))\n",
    "b = int(input('please enter a value for b\\n'))\n",
    "total = 0\n",
    "while a !=0:\n",
    "    if a<0:\n",
    "        total = total -b\n",
    "        a = a+1\n",
    "    else:\n",
    "        total = total +b\n",
    "        a= a-1\n",
    "print('total = ', total)\n"
   ]
  },
  {
   "cell_type": "code",
   "execution_count": null,
   "metadata": {},
   "outputs": [],
   "source": []
  }
 ],
 "metadata": {
  "kernelspec": {
   "display_name": "Python 3",
   "language": "python",
   "name": "python3"
  },
  "language_info": {
   "codemirror_mode": {
    "name": "ipython",
    "version": 3
   },
   "file_extension": ".py",
   "mimetype": "text/x-python",
   "name": "python",
   "nbconvert_exporter": "python",
   "pygments_lexer": "ipython3",
   "version": "3.8.8"
  }
 },
 "nbformat": 4,
 "nbformat_minor": 4
}
