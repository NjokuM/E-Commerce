{
 "cells": [
  {
   "cell_type": "markdown",
   "metadata": {},
   "source": [
    "## Assignemnts"
   ]
  },
  {
   "cell_type": "code",
   "execution_count": null,
   "metadata": {},
   "outputs": [],
   "source": [
    "a=57\n",
    "b=79\n",
    "print('a=', a, ', b=',b)"
   ]
  },
  {
   "cell_type": "markdown",
   "metadata": {},
   "source": [
    "## Switching Variables"
   ]
  },
  {
   "cell_type": "code",
   "execution_count": null,
   "metadata": {},
   "outputs": [],
   "source": [
    "a=b\n",
    "b=a\n",
    "print('a=', a, ', b=',b)"
   ]
  },
  {
   "cell_type": "code",
   "execution_count": null,
   "metadata": {},
   "outputs": [],
   "source": [
    "t=a\n",
    "a=b\n",
    "b=t\n",
    "print('a=', a, ', b=',b)"
   ]
  },
  {
   "cell_type": "code",
   "execution_count": null,
   "metadata": {},
   "outputs": [],
   "source": [
    "x = 16\n",
    "y = 10\n",
    "total = x+y\n",
    "y = 11\n",
    "\n",
    "print('total =', total)"
   ]
  },
  {
   "cell_type": "markdown",
   "metadata": {},
   "source": [
    "## IF Statement"
   ]
  },
  {
   "cell_type": "code",
   "execution_count": null,
   "metadata": {},
   "outputs": [],
   "source": [
    "age = 68\n",
    "fare = 5\n",
    "if age > 67:\n",
    "    fare = 0\n",
    "\n",
    "print('fare = ', fare)"
   ]
  },
  {
   "cell_type": "code",
   "execution_count": null,
   "metadata": {},
   "outputs": [],
   "source": [
    "age = 67\n",
    "if age >67:\n",
    "    fare = 0\n",
    "else:\n",
    "    fare = 5\n",
    "\n",
    "print('fare = ', fare)"
   ]
  },
  {
   "cell_type": "code",
   "execution_count": null,
   "metadata": {},
   "outputs": [],
   "source": [
    "counterA = 0\n",
    "counterB = 0\n",
    "counterC = 0\n",
    "error_counter = 0\n",
    "record_code = 'C'\n",
    "\n",
    "if record_code == 'A':\n",
    "    counterA = counterA+1\n",
    "else:\n",
    "    if record_code == 'B':\n",
    "        counterB = counterB+1\n",
    "    else:\n",
    "        if record_code == 'C':\n",
    "            counterC = counterC+1\n",
    "        else:\n",
    "            error_counter = error_counter+1\n",
    "\n",
    "print(counterA, counterB, counterC, error_counter)"
   ]
  },
  {
   "cell_type": "code",
   "execution_count": null,
   "metadata": {},
   "outputs": [],
   "source": [
    "counterA = 0\n",
    "counterB = 0\n",
    "counterC = 0\n",
    "error_counter = 0\n",
    "record_code = 'B'\n",
    "\n",
    "if record_code == 'A':\n",
    "    counterA = counterA+1\n",
    "elif record_code == 'B':\n",
    "    counterB = counterB+1\n",
    "elif record_code == 'C':\n",
    "    counterC = counterC+1\n",
    "else:\n",
    "    error_counter = error_counter+1\n",
    "\n",
    "print(counterA, counterB, counterC, error_counter)"
   ]
  },
  {
   "cell_type": "markdown",
   "metadata": {},
   "source": [
    "## Loops"
   ]
  },
  {
   "cell_type": "code",
   "execution_count": null,
   "metadata": {},
   "outputs": [],
   "source": [
    "total = 0\n",
    "x = '1'\n",
    "while x!= '0':\n",
    "    x = input(\"Please enter an integer:\\n\")\n",
    "    total = total + int(x)\n",
    "print('total = ', total)"
   ]
  },
  {
   "cell_type": "code",
   "execution_count": null,
   "metadata": {},
   "outputs": [],
   "source": [
    "total = 0\n",
    "for i in range(0,10):\n",
    "    total = total + i\n",
    "    print('i =', i)\n",
    "    print('total =', total)\n",
    "\n",
    "print('i=', i)"
   ]
  },
  {
   "cell_type": "code",
   "execution_count": null,
   "metadata": {},
   "outputs": [],
   "source": [
    "i = 0\n",
    "total = 0\n",
    "while i < 10:\n",
    "    total = total + i\n",
    "    i = i + 1\n",
    "    print('total =', total)\n",
    "\n",
    "print('i=', i)\n",
    "\n"
   ]
  },
  {
   "cell_type": "code",
   "execution_count": 11,
   "metadata": {},
   "outputs": [
    {
     "name": "stdout",
     "output_type": "stream",
     "text": [
      "total = 19\n",
      "Total = 20\n"
     ]
    }
   ],
   "source": [
    "A=12\n",
    "a= 7\n",
    "total = A + a\n",
    "print('total =', total)\n",
    "\n",
    "if total <20:\n",
    "    total = total + 1\n",
    "\n",
    "    print('Total =', total )\n",
    "\n"
   ]
  },
  {
   "cell_type": "code",
   "execution_count": null,
   "metadata": {},
   "outputs": [],
   "source": [
    "Sam = 0\n",
    "print('Is Sam is a fool?'\\n,)\n",
    "\n",
    "input('Yes or no',)"
   ]
  },
  {
   "cell_type": "code",
   "execution_count": null,
   "metadata": {},
   "outputs": [],
   "source": []
  }
 ],
 "metadata": {
  "kernelspec": {
   "display_name": "Python 3",
   "language": "python",
   "name": "python3"
  },
  "language_info": {
   "codemirror_mode": {
    "name": "ipython",
    "version": 3
   },
   "file_extension": ".py",
   "mimetype": "text/x-python",
   "name": "python",
   "nbconvert_exporter": "python",
   "pygments_lexer": "ipython3",
   "version": "3.8.8"
  }
 },
 "nbformat": 4,
 "nbformat_minor": 4
}
