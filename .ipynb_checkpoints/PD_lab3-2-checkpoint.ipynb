{
 "cells": [
  {
   "cell_type": "markdown",
   "metadata": {},
   "source": [
    "## Question 1\n",
    "The code below reads in integer variables a, b, c. Can you sort the values in the variables - a having the smallest of the three values, b the middle valus and c the largest - using only if statements? Use test values and print the variable names and values to check your answer."
   ]
  },
  {
   "cell_type": "code",
   "execution_count": null,
   "metadata": {},
   "outputs": [],
   "source": [
    "a = int(input('please enter a value for a\\n'))\n",
    "b = int(input('please enter a value for b\\n'))\n",
    "c = int(input('please enter a value for c\\n'))\n",
    "\n",
    "a<b\n",
    "a<c\n",
    "a=t\n",
    "b<\n",
    "\n"
   ]
  },
  {
   "cell_type": "markdown",
   "metadata": {},
   "source": [
    "## Question 2\n",
    "The folowing is the expression for converting temperature in celsius to farenheit:  \n",
    "F = (C × 9/5) + 32  \n",
    "where C is the temperature in celsius and F is the tmperature in farenheit. Write a program that prints out the tempertures in celsius from 0 to 100 in increments of 10 with the corresponding temperatures in farenheit."
   ]
  },
  {
   "cell_type": "code",
   "execution_count": null,
   "metadata": {},
   "outputs": [],
   "source": []
  },
  {
   "cell_type": "markdown",
   "metadata": {},
   "source": [
    "## Question 3\n",
    "Can you design an algorithm that reads in 2 integers and simulates multiplication using a loop and addition? Test your algorithm with different vaules. Can you make it work for positive and negative numbers using only if else, loops, and addition and subtraction?"
   ]
  },
  {
   "cell_type": "code",
   "execution_count": null,
   "metadata": {},
   "outputs": [],
   "source": []
  }
 ],
 "metadata": {
  "kernelspec": {
   "display_name": "Python 3",
   "language": "python",
   "name": "python3"
  },
  "language_info": {
   "codemirror_mode": {
    "name": "ipython",
    "version": 3
   },
   "file_extension": ".py",
   "mimetype": "text/x-python",
   "name": "python",
   "nbconvert_exporter": "python",
   "pygments_lexer": "ipython3",
   "version": "3.8.8"
  }
 },
 "nbformat": 4,
 "nbformat_minor": 4
}
