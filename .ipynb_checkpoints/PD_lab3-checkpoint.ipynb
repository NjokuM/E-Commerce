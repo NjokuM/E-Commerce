{
 "cells": [
  {
   "cell_type": "markdown",
   "metadata": {},
   "source": [
    "## Question 1\n",
    "The code below reads in integer variables a, b, c. Can you sort the values in the variables - a having the smallest of the three values, b the middle valus and c the largest - using only if statements? Use test values and print the variable names and values to check your answer."
   ]
  },
  {
   "cell_type": "code",
   "execution_count": 36,
   "metadata": {},
   "outputs": [
    {
     "name": "stdout",
     "output_type": "stream",
     "text": [
      "please enter a value for a\n",
      "0\n",
      "please enter a value for b\n",
      "7\n",
      "please enter a value for c\n",
      "9\n"
     ]
    }
   ],
   "source": [
    "a = int(input('please enter a value for a\\n'))\n",
    "b = int(input('please enter a value for b\\n'))\n",
    "c = int(input('please enter a value for c\\n')) \n",
    "\n",
    "if a>b:\n",
    "    t=a\n",
    "    a=b\n",
    "    b=t\n",
    "if a>c:\n",
    "    t=a\n",
    "    a=c\n",
    "    c=t\n",
    "if b>c:\n",
    "    t=b\n",
    "    b=c\n",
    "    \n",
    "    print(a,b,c,t)\n",
    "\n",
    "\n",
    "\n",
    "\n"
   ]
  },
  {
   "cell_type": "markdown",
   "metadata": {},
   "source": [
    "## Question 2\n",
    "The folowing is the expression for converting temperature in celsius to farenheit:  \n",
    "F = (C × 9/5) + 32  \n",
    "where C is the temperature in celsius and F is the tmperature in farenheit. Write a program that prints out the tempertures in celsius from 0 to 100 in increments of 10 with the corresponding temperatures in farenheit."
   ]
  },
  {
   "cell_type": "code",
   "execution_count": 48,
   "metadata": {},
   "outputs": [
    {
     "name": "stdout",
     "output_type": "stream",
     "text": [
      "32.0\n",
      "50.0\n",
      "68.0\n",
      "86.0\n",
      "104.0\n",
      "122.0\n",
      "140.0\n",
      "158.0\n",
      "176.0\n",
      "194.0\n"
     ]
    }
   ],
   "source": [
    "\n",
    "c=0\n",
    "total = 0\n",
    "while c < 100:\n",
    "    total = (c * 9/5)+32\n",
    "    c = c + 10\n",
    "    print (total)\n"
   ]
  },
  {
   "cell_type": "markdown",
   "metadata": {},
   "source": [
    "## Question 3\n",
    "Can you design an algorithm that reads in 2 integers and simulates multiplication using a loop and addition? Test your algorithm with different vaules. Can you make it work for positive and negative numbers using only if else, loops, and addition and subtraction?"
   ]
  },
  {
   "cell_type": "markdown",
   "metadata": {},
   "source": []
  },
  {
   "cell_type": "code",
   "execution_count": 6,
   "metadata": {},
   "outputs": [
    {
     "name": "stdout",
     "output_type": "stream",
     "text": [
      "r =  1\n",
      "total = -2\n",
      "r =  2\n",
      "total = 4\n",
      "r =  3\n",
      "total = -8\n",
      "r =  4\n",
      "total = 16\n",
      "r =  5\n",
      "total = -32\n",
      "r =  6\n",
      "total = 64\n",
      "r =  7\n",
      "total = -128\n",
      "r =  8\n",
      "total = 256\n",
      "r =  9\n",
      "total = -512\n",
      "r =  10\n",
      "total = 1024\n",
      "r =  11\n",
      "total = -2048\n",
      "r =  12\n",
      "total = 4096\n",
      "r =  13\n",
      "total = -8192\n",
      "r =  14\n",
      "total = 16384\n",
      "r =  15\n",
      "total = -32768\n",
      "r =  16\n",
      "total = 65536\n",
      "r =  17\n",
      "total = -131072\n",
      "r =  18\n",
      "total = 262144\n",
      "r =  19\n",
      "total = -524288\n",
      "r =, r\n"
     ]
    }
   ],
   "source": [
    "total = 1\n",
    "for r in range (1,20):\n",
    "    total = total * -2\n",
    "    print('r = ', r)\n",
    "    print ('total =', total)\n",
    "print('r =, r')       "
   ]
  },
  {
   "cell_type": "code",
   "execution_count": null,
   "metadata": {},
   "outputs": [],
   "source": []
  },
  {
   "cell_type": "code",
   "execution_count": null,
   "metadata": {},
   "outputs": [],
   "source": []
  }
 ],
 "metadata": {
  "kernelspec": {
   "display_name": "Python 3",
   "language": "python",
   "name": "python3"
  },
  "language_info": {
   "codemirror_mode": {
    "name": "ipython",
    "version": 3
   },
   "file_extension": ".py",
   "mimetype": "text/x-python",
   "name": "python",
   "nbconvert_exporter": "python",
   "pygments_lexer": "ipython3",
   "version": "3.8.8"
  }
 },
 "nbformat": 4,
 "nbformat_minor": 4
}
