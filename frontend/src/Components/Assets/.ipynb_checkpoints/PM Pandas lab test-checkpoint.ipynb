{
 "cells": [
  {
   "cell_type": "markdown",
   "id": "f139cc4e",
   "metadata": {},
   "source": [
    "#  Lab test - manipulate and query data using Pandas (PM)"
   ]
  },
  {
   "cell_type": "markdown",
   "id": "4c36847b",
   "metadata": {},
   "source": [
    "## Rules:\n",
    "\n",
    "•\tMake sure you are comfortable before the lab test starts – students leaving the lab during the test will not be allowed back in.\n",
    "\n",
    "•\tYou must sit your assigned lab test – you will not be able to access any other lab test.\n",
    "\n",
    "•\tYou must use the lab machines. You are not allowed to use any other devices, including your own laptop or phone. You should have no other device on the desktop during the test.\n",
    "\n",
    "•\tYou may use blank paper. \n",
    "\n",
    "•\tYou may access Brightspace notes during the lab test, from the lab machine.\n",
    "\n",
    "•\tYou must not communicate, verbally or electronically, with anyone other than the lab supervisor during the test.\n",
    "\n",
    "•\tTurn up at the start of the lab, log in to one of the desktops and start up Jupyter Notebook\n",
    "\n",
    "•\tWhen you have completed your test, check that you have answered all parts and submit.  Log off and leave the lab. \n",
    "\n",
    "•\tDo not speak to anyone, either in the lab or in the corridor outside until the lab test is over.\n"
   ]
  },
  {
   "cell_type": "code",
   "execution_count": 1,
   "id": "b1122872",
   "metadata": {},
   "outputs": [
    {
     "data": {
      "text/plain": [
       "'/Users/michaelnjoku/Downloads'"
      ]
     },
     "execution_count": 1,
     "metadata": {},
     "output_type": "execute_result"
    }
   ],
   "source": [
    "import os\n",
    "import pandas as pd\n",
    "from os.path import join\n",
    "os.getcwd()"
   ]
  },
  {
   "cell_type": "markdown",
   "id": "e2136363",
   "metadata": {},
   "source": [
    "#### This test must be done in the lab in Grangegorman. \n",
    "\n",
    " - The data files you will require are in the Datasets folder in Brightspace. Download them onto the desktop computer.  You will need to specify the data path.\n",
    " - Please use one or more cells below each section to fulfil the requirements. \n",
    " - When you have completed your work, using the Kernel menu, restart the kernel and run all. \n",
    " - Using the File menu, Save your notebook as your student number .ipynb (e.g. C87654321.ipynb).\n",
    " - Submit this file before the end of the lab. Do not submit the data files."
   ]
  },
  {
   "cell_type": "code",
   "execution_count": null,
   "id": "dfb90789",
   "metadata": {},
   "outputs": [],
   "source": []
  },
  {
   "cell_type": "markdown",
   "id": "e1042d5f",
   "metadata": {},
   "source": [
    "## 1.  Loading the data\n",
    "\n",
    " - load all the data from 'IRCountyPop.csv' into a DataFrame called **dfh**.\n",
    " - load the first 70 columns from 'irishcensus2016.csv' into a dataframe called **df16**.\n",
    " - display the first five rows of each dataset."
   ]
  },
  {
   "cell_type": "code",
   "execution_count": 6,
   "id": "17746661",
   "metadata": {},
   "outputs": [
    {
     "name": "stdout",
     "output_type": "stream",
     "text": [
      "First five rows of dfh:\n",
      "   county  pop1841  pop1851  pop1861  pop1871  pop1881  pop1891  pop1901  \\\n",
      "0  Antrim   361428   360498   372008   398624   413178   416143   543329   \n",
      "1  Armagh   227190   189091   184138   171142   154515   135444   123018   \n",
      "2  Carlow    81658    65222    54610    49012    44103    38734    35881   \n",
      "3   Cavan   243094   173989   153870   140735   129476   111917    97451   \n",
      "4   Clare   285456   211865   165884   147779   141379   124425   110658   \n",
      "\n",
      "   pop1911  pop1926  pop1936  pop1951  pop1961  pop1971  pop1981  pop1991  \\\n",
      "0   578704   608258   635692   661693   677512   663051   579750   591404   \n",
      "1   117783   105693   102646   108739   111701   125461   127607   136469   \n",
      "2    34498    33018    33127    32993    32248    33202    38646    39774   \n",
      "3    91173    82452    76670    66377    56594    49345    53855    52796   \n",
      "4   102604    93685    88642    80264    72753    74104    86547    89864   \n",
      "\n",
      "   pop2001  \n",
      "0   617462  \n",
      "1   144178  \n",
      "2    44829  \n",
      "3    56546  \n",
      "4   102109  \n",
      "\n",
      "First five rows of df16:\n",
      "   Unnamed: 0       County  Age 0 - Males  Age 1 - Males  Age 2 - Males  \\\n",
      "0           0    Cork City            720            614            613   \n",
      "1           1        Clare            762            759            780   \n",
      "2           2  Cork County           2957           3154           3174   \n",
      "3           3        Cavan            539            540            566   \n",
      "4           4       Carlow            349            440            383   \n",
      "\n",
      "   Age 3 - Males  Age 4 - Males  Age 5 - Males  Age 6 - Males  Age 7 - Males  \\\n",
      "0            645            602            643            647            598   \n",
      "1            842            868            843            929            954   \n",
      "2           3324           3365           3579           3628           3543   \n",
      "3            636            608            671            635            680   \n",
      "4            426            459            475            442            455   \n",
      "\n",
      "   ...  Age 40 - 44 - Females  Age 45 - 49 - Females  Age 50 - 54 - Females  \\\n",
      "0  ...                   3651                   3447                   3854   \n",
      "1  ...                   4698                   4392                   4071   \n",
      "2  ...                  16653                  15119                  13580   \n",
      "3  ...                   2717                   2609                   2415   \n",
      "4  ...                   2147                   1954                   1807   \n",
      "\n",
      "   Age 55 - 59 - Females  Age 60 - 64 - Females  Age 65 - 69 - Females  \\\n",
      "0                   3675                   3167                   2969   \n",
      "1                   3658                   3347                   3059   \n",
      "2                  11774                  10456                   9169   \n",
      "3                   2182                   1889                   1649   \n",
      "4                   1620                   1428                   1214   \n",
      "\n",
      "   Age 70 - 74 - Females  Age 75 - 79 - Females  Age 80 - 84 - Females  \\\n",
      "0                   2626                   2324                   1743   \n",
      "1                   2285                   1597                   1123   \n",
      "2                   6968                   4931                   3824   \n",
      "3                   1226                    895                    755   \n",
      "4                    982                    706                    509   \n",
      "\n",
      "   Age 85 and over - Females  \n",
      "0                       1412  \n",
      "1                       1172  \n",
      "2                       3757  \n",
      "3                        782  \n",
      "4                        455  \n",
      "\n",
      "[5 rows x 70 columns]\n"
     ]
    }
   ],
   "source": [
    "# Loading all data from 'IRCountyPop.csv' into a DataFrame called dfh\n",
    "dfh = pd.read_csv('IRCountyPop.csv')\n",
    "\n",
    "# Loading the first 70 columns from 'irishcensus2016.csv' into a DataFrame called df16\n",
    "df16 = pd.read_csv('irishcensus2016.csv', usecols=range(70))\n",
    "\n",
    "# Displaying the first five rows of each dataset\n",
    "print(\"First five rows of dfh:\")\n",
    "print(dfh.head())\n",
    "\n",
    "print(\"\\nFirst five rows of df16:\")\n",
    "print(df16.head())"
   ]
  },
  {
   "cell_type": "markdown",
   "id": "a8d420ff",
   "metadata": {},
   "source": [
    "## 2. Rearrange the data.\n",
    "\n",
    " - ### **dfh**\n",
    "     - Transform **dfh** into a new dataframe **dfhy** where each row shows a county, a year and a population count.\n",
    "     - Remove the 'pop' from the year,\n",
    "     - Check the datatypes of all columns in **dfhy**.\n",
    "     - If any column's data type is not appropriate, change it."
   ]
  },
  {
   "cell_type": "code",
   "execution_count": 3,
   "id": "05e56945",
   "metadata": {},
   "outputs": [
    {
     "name": "stdout",
     "output_type": "stream",
     "text": [
      "Data types of columns in dfhy:\n",
      "county        object\n",
      "year          object\n",
      "population     int64\n",
      "dtype: object\n",
      "\n",
      "Data types of columns in dfhy after conversion:\n",
      "county        object\n",
      "year           int64\n",
      "population     int64\n",
      "dtype: object\n"
     ]
    }
   ],
   "source": [
    "# Transform dfh into a new dataframe dfhy\n",
    "dfhy = pd.melt(dfh, id_vars=['county'], var_name='year', value_name='population')\n",
    "\n",
    "# Remove 'pop' from the year\n",
    "dfhy['year'] = dfhy['year'].str.replace('pop', '')\n",
    "\n",
    "# Check the datatypes of all columns in dfhy\n",
    "print(\"Data types of columns in dfhy:\")\n",
    "print(dfhy.dtypes)\n",
    "\n",
    "# If any column's data type is not appropriate, change it\n",
    "dfhy['year'] = pd.to_numeric(dfhy['year'])\n",
    "dfhy['population'] = pd.to_numeric(dfhy['population'])\n",
    "\n",
    "# Check the datatypes again after conversion\n",
    "print(\"\\nData types of columns in dfhy after conversion:\")\n",
    "print(dfhy.dtypes)\n"
   ]
  },
  {
   "cell_type": "markdown",
   "id": "2cfef54b",
   "metadata": {},
   "source": [
    "### - df16\n",
    " - drop the column 'Unnamed: 0'\n",
    " - Transform **df16** into a new dataframe **df16p** where each row shows a county, a demographic and a population.\n",
    " - Create a further dataframe **df16sum** that gives just County and Population.\n",
    "    -The population is the sum of values from 'Age 0 - Males' to 'Age 85 and over - Females'\n",
    " - Add a new column 'Year', to **df16sum** with a value of 2016.\n",
    " - Rearrange the order of the columns, so the order is the same as in **dfhy**.\n",
    " - Rename the columns in **df16sum** to the names in **dfhy**."
   ]
  },
  {
   "cell_type": "markdown",
   "id": "2f212162",
   "metadata": {},
   "source": [
    "## 3. Combine the DataFrames\n",
    " - Combine the data from **dfhy** and **df16p** into a single dataframe **dfpop**, losing no data."
   ]
  },
  {
   "cell_type": "code",
   "execution_count": 7,
   "id": "5d1b2aa2",
   "metadata": {},
   "outputs": [
    {
     "name": "stdout",
     "output_type": "stream",
     "text": [
      "df16p:\n",
      "        County    demographic  population\n",
      "0    Cork City  Age 0 - Males         720\n",
      "1        Clare  Age 0 - Males         762\n",
      "2  Cork County  Age 0 - Males        2957\n",
      "3        Cavan  Age 0 - Males         539\n",
      "4       Carlow  Age 0 - Males         349\n",
      "\n",
      "df16sum:\n",
      "        county  year  population\n",
      "0    Cork City  2016      125657\n",
      "1        Clare  2016      118817\n",
      "2  Cork County  2016      417211\n",
      "3        Cavan  2016       76176\n",
      "4       Carlow  2016       56932\n"
     ]
    }
   ],
   "source": [
    "# Drop the column 'Unnamed: 0' from df16\n",
    "df16 = df16.drop(columns=['Unnamed: 0'])\n",
    "\n",
    "# Transform df16 into a new dataframe df16p\n",
    "df16p = pd.melt(df16, id_vars=['County'], var_name='demographic', value_name='population')\n",
    "\n",
    "# Create a further dataframe df16sum\n",
    "df16sum = df16[['County']].copy()\n",
    "df16sum['Population'] = df16.loc[:, 'Age 0 - Males':'Age 85 and over - Females'].sum(axis=1)\n",
    "\n",
    "# Add a new column 'Year' to df16sum with a value of 2016\n",
    "df16sum['Year'] = 2016\n",
    "\n",
    "# Rearrange the order of the columns in df16sum\n",
    "df16sum = df16sum[['County', 'Year', 'Population']]\n",
    "\n",
    "# Rename the columns in df16sum to the names in dfhy\n",
    "df16sum.columns = ['county', 'year', 'population']\n",
    "\n",
    "# Display the resulting dataframes\n",
    "print(\"df16p:\")\n",
    "print(df16p.head())\n",
    "\n",
    "print(\"\\ndf16sum:\")\n",
    "print(df16sum.head())\n"
   ]
  },
  {
   "cell_type": "markdown",
   "id": "5c0c0f75",
   "metadata": {},
   "source": [
    "## 4. Queries\n",
    " - Display the names of distinct counties in **dfhy** in alphabetical order.\n",
    " - Display the names of distinct counties in **df16sum** in alphabetical order."
   ]
  },
  {
   "cell_type": "code",
   "execution_count": 8,
   "id": "08f504b0",
   "metadata": {},
   "outputs": [
    {
     "name": "stdout",
     "output_type": "stream",
     "text": [
      "Distinct counties in dfhy:\n",
      "['Antrim' 'Armagh' 'Carlow' 'Cavan' 'Clare' 'Cork' 'Derry' 'Donegal'\n",
      " 'Down' 'Dublin' 'Fermanagh' 'Galway' 'Kerry' 'Kildare' 'Kilkenny' 'Laois'\n",
      " 'Leitrim' 'Limerick' 'Longford' 'Louth' 'Mayo' 'Meath' 'Monaghan'\n",
      " 'Offaly' 'Roscommon' 'Sligo' 'Tipperary' 'Tyrone' 'Waterford' 'Westmeath'\n",
      " 'Wexford' 'Wicklow']\n",
      "\n",
      "Distinct counties in df16sum:\n",
      "['Carlow' 'Cavan' 'Clare' 'Cork City' 'Cork County' 'Donegal'\n",
      " 'Dublin City' 'Dún Laoghaire-Rathdown' 'Fingal' 'Galway City'\n",
      " 'Galway County' 'Kerry' 'Kildare' 'Kilkenny' 'Laois' 'Leitrim'\n",
      " 'Limerick City and County' 'Longford' 'Louth' 'Mayo' 'Meath' 'Monaghan'\n",
      " 'Offaly' 'Roscommon' 'Sligo' 'South Dublin' 'Tipperary'\n",
      " 'Waterford City and County' 'Westmeath' 'Wexford' 'Wicklow']\n"
     ]
    }
   ],
   "source": [
    "# Display the names of distinct counties in dfhy in alphabetical order\n",
    "distinct_counties_dfhy = dfhy['county'].sort_values().unique()\n",
    "print(\"Distinct counties in dfhy:\")\n",
    "print(distinct_counties_dfhy)\n",
    "\n",
    "# Display the names of distinct counties in df16sum in alphabetical order\n",
    "distinct_counties_df16sum = df16sum['county'].sort_values().unique()\n",
    "print(\"\\nDistinct counties in df16sum:\")\n",
    "print(distinct_counties_df16sum)\n"
   ]
  },
  {
   "cell_type": "markdown",
   "id": "a16d621f",
   "metadata": {},
   "source": [
    " - Using **dfpop** show the population of the county 'Kildare' for every year that's available."
   ]
  },
  {
   "cell_type": "code",
   "execution_count": 12,
   "id": "49dd557a",
   "metadata": {},
   "outputs": [
    {
     "name": "stdout",
     "output_type": "stream",
     "text": [
      "Population of Kildare for every available year:\n",
      "    year  population\n",
      "11  2016      222504\n"
     ]
    }
   ],
   "source": [
    "\n"
   ]
  },
  {
   "cell_type": "markdown",
   "id": "50f4fc92",
   "metadata": {},
   "source": [
    " - Using **dfpop** show the population of the county 'Cork' for every year that's available."
   ]
  },
  {
   "cell_type": "code",
   "execution_count": null,
   "id": "a2a3e950",
   "metadata": {},
   "outputs": [],
   "source": [
    "# Filter dfpop for the county 'Kildare'\n",
    "kildare_population = dfpop[dfpop['County'] == 'Cork']\n",
    "\n",
    "# Display the population for every year\n",
    "print(\"Population of Kildare for every available year:\")\n",
    "print(kildare_population[['YearColumnName', 'Population']])\n"
   ]
  },
  {
   "cell_type": "markdown",
   "id": "9ae23b08",
   "metadata": {},
   "source": [
    " - Returning to **df16sum**, describe how you would get the population for 'Cork' for 2016"
   ]
  },
  {
   "cell_type": "code",
   "execution_count": 16,
   "id": "b6a95397",
   "metadata": {},
   "outputs": [
    {
     "name": "stdout",
     "output_type": "stream",
     "text": [
      "Population of Kildare for every available year:\n",
      "Empty DataFrame\n",
      "Columns: [year, population]\n",
      "Index: []\n"
     ]
    }
   ],
   "source": [
    "# Assuming 'df16sum' is the DataFrame containing the summarized population data\n",
    "\n",
    "# Filter df16sum for the county 'Cork'\n",
    "cork_population = df16sum[df16sum['county'] == 'Cork']\n",
    "\n",
    "# Display the population for Cork for every available year\n",
    "print(\"Population of Cork for every available year:\")\n",
    "print(kildare_population[['year', 'population']])\n"
   ]
  },
  {
   "cell_type": "markdown",
   "id": "1fb398ac",
   "metadata": {},
   "source": [
    "## 5. What did you learn?\n",
    " - State amendments you would recommend to make the datasets more compatible."
   ]
  },
  {
   "cell_type": "raw",
   "id": "83901609",
   "metadata": {},
   "source": []
  },
  {
   "cell_type": "markdown",
   "id": "b1e002d4",
   "metadata": {},
   "source": [
    "# Rerun your notebook before submitting, to correct any errors."
   ]
  }
 ],
 "metadata": {
  "kernelspec": {
   "display_name": "Python 3 (ipykernel)",
   "language": "python",
   "name": "python3"
  },
  "language_info": {
   "codemirror_mode": {
    "name": "ipython",
    "version": 3
   },
   "file_extension": ".py",
   "mimetype": "text/x-python",
   "name": "python",
   "nbconvert_exporter": "python",
   "pygments_lexer": "ipython3",
   "version": "3.10.13"
  }
 },
 "nbformat": 4,
 "nbformat_minor": 5
}
